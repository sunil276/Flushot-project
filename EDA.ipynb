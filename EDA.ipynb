{
 "cells": [
  {
   "cell_type": "code",
   "execution_count": 14,
   "id": "bd579575",
   "metadata": {},
   "outputs": [],
   "source": [
    "!pip install seaborn"
   ]
  },
  {
   "cell_type": "code",
   "execution_count": 17,
   "id": "8499f2d0",
   "metadata": {},
   "outputs": [
    {
     "ename": "ModuleNotFoundError",
     "evalue": "No module named 'matplotlib'",
     "output_type": "error",
     "traceback": [
      "\u001b[1;31m---------------------------------------------------------------------------\u001b[0m",
      "\u001b[1;31mModuleNotFoundError\u001b[0m                       Traceback (most recent call last)",
      "Cell \u001b[1;32mIn[17], line 2\u001b[0m\n\u001b[0;32m      1\u001b[0m \u001b[38;5;28;01mimport\u001b[39;00m\u001b[38;5;250m \u001b[39m\u001b[38;5;21;01mpandas\u001b[39;00m\u001b[38;5;250m \u001b[39m\u001b[38;5;28;01mas\u001b[39;00m\u001b[38;5;250m \u001b[39m\u001b[38;5;21;01mpd\u001b[39;00m\n\u001b[1;32m----> 2\u001b[0m \u001b[38;5;28;01mimport\u001b[39;00m\u001b[38;5;250m \u001b[39m\u001b[38;5;21;01mmatplotlib\u001b[39;00m\u001b[38;5;21;01m.\u001b[39;00m\u001b[38;5;21;01mpyplot\u001b[39;00m\u001b[38;5;250m \u001b[39m\u001b[38;5;28;01mas\u001b[39;00m\u001b[38;5;250m \u001b[39m\u001b[38;5;21;01mplt\u001b[39;00m\n\u001b[0;32m      3\u001b[0m \u001b[38;5;28;01mimport\u001b[39;00m\u001b[38;5;250m \u001b[39m\u001b[38;5;21;01mseaborn\u001b[39;00m\n",
      "\u001b[1;31mModuleNotFoundError\u001b[0m: No module named 'matplotlib'"
     ]
    }
   ],
   "source": [
    "import pandas as pd\n",
    "import matplotlib.pyplot as plt\n",
    "import seaborn"
   ]
  },
  {
   "cell_type": "code",
   "execution_count": 3,
   "id": "585b4185",
   "metadata": {},
   "outputs": [],
   "source": [
    "training_data=pd.read_excel(r\"Final Data/final_training_data.xlsx\")"
   ]
  },
  {
   "cell_type": "code",
   "execution_count": null,
   "id": "7f29a0c2",
   "metadata": {},
   "outputs": [
    {
     "name": "stdout",
     "output_type": "stream",
     "text": [
      "<class 'pandas.core.frame.DataFrame'>\n",
      "RangeIndex: 26707 entries, 0 to 26706\n",
      "Data columns (total 38 columns):\n",
      " #   Column                       Non-Null Count  Dtype\n",
      "---  ------                       --------------  -----\n",
      " 0   respondent_id                26707 non-null  int64\n",
      " 1   h1n1_concern                 26707 non-null  int64\n",
      " 2   h1n1_knowledge               26707 non-null  int64\n",
      " 3   behavioral_antiviral_meds    26707 non-null  int64\n",
      " 4   behavioral_avoidance         26707 non-null  int64\n",
      " 5   behavioral_face_mask         26707 non-null  int64\n",
      " 6   behavioral_wash_hands        26707 non-null  int64\n",
      " 7   behavioral_large_gatherings  26707 non-null  int64\n",
      " 8   behavioral_outside_home      26707 non-null  int64\n",
      " 9   behavioral_touch_face        26707 non-null  int64\n",
      " 10  doctor_recc_h1n1             26707 non-null  int64\n",
      " 11  doctor_recc_seasonal         26707 non-null  int64\n",
      " 12  chronic_med_condition        26707 non-null  int64\n",
      " 13  child_under_6_months         26707 non-null  int64\n",
      " 14  health_worker                26707 non-null  int64\n",
      " 15  health_insurance             26707 non-null  int64\n",
      " 16  opinion_h1n1_vacc_effective  26707 non-null  int64\n",
      " 17  opinion_h1n1_risk            26707 non-null  int64\n",
      " 18  opinion_h1n1_sick_from_vacc  26707 non-null  int64\n",
      " 19  opinion_seas_vacc_effective  26707 non-null  int64\n",
      " 20  opinion_seas_risk            26707 non-null  int64\n",
      " 21  opinion_seas_sick_from_vacc  26707 non-null  int64\n",
      " 22  age_group                    26707 non-null  int64\n",
      " 23  education                    26707 non-null  int64\n",
      " 24  race                         26707 non-null  int64\n",
      " 25  sex                          26707 non-null  int64\n",
      " 26  income_poverty               26707 non-null  int64\n",
      " 27  marital_status               26707 non-null  int64\n",
      " 28  rent_or_own                  26707 non-null  int64\n",
      " 29  employment_status            26707 non-null  int64\n",
      " 30  hhs_geo_region               26707 non-null  int64\n",
      " 31  census_msa                   26707 non-null  int64\n",
      " 32  household_adults             26707 non-null  int64\n",
      " 33  household_children           26707 non-null  int64\n",
      " 34  employment_industry          26707 non-null  int64\n",
      " 35  employment_occupation        26707 non-null  int64\n",
      " 36  h1n1_vaccine                 26707 non-null  int64\n",
      " 37  seasonal_vaccine             26707 non-null  int64\n",
      "dtypes: int64(38)\n",
      "memory usage: 7.7 MB\n"
     ]
    }
   ],
   "source": [
    "training_data.info()"
   ]
  },
  {
   "cell_type": "code",
   "execution_count": null,
   "id": "a992c48b",
   "metadata": {},
   "outputs": [],
   "source": []
  },
  {
   "cell_type": "code",
   "execution_count": null,
   "id": "81772af8",
   "metadata": {},
   "outputs": [],
   "source": []
  },
  {
   "cell_type": "code",
   "execution_count": null,
   "metadata": {},
   "outputs": [],
   "source": []
  }
 ],
 "metadata": {
  "kernelspec": {
   "display_name": "venv",
   "language": "python",
   "name": "python3"
  },
  "language_info": {
   "codemirror_mode": {
    "name": "ipython",
    "version": 3
   },
   "file_extension": ".py",
   "mimetype": "text/x-python",
   "name": "python",
   "nbconvert_exporter": "python",
   "pygments_lexer": "ipython3",
   "version": "3.9.6"
  }
 },
 "nbformat": 4,
 "nbformat_minor": 5
}
