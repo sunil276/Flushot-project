{
 "cells": [
  {
   "cell_type": "code",
   "execution_count": 18,
   "id": "7a6071d0",
   "metadata": {},
   "outputs": [],
   "source": [
    "import pandas as pd\n",
    "import pickle\n",
    "import numpy as np"
   ]
  },
  {
   "cell_type": "code",
   "execution_count": 2,
   "id": "7386f218",
   "metadata": {},
   "outputs": [],
   "source": [
    "final_df=pd.read_excel(r'D:\\Sunil\\DrivenData\\Flushotlearning-1\\Final Data\\final_test_data.xlsx')"
   ]
  },
  {
   "cell_type": "code",
   "execution_count": 7,
   "id": "c825091d",
   "metadata": {},
   "outputs": [],
   "source": [
    "X=final_df.drop([\"h1n1_vaccine\",\"seasonal_vaccine\"],axis=1)\n"
   ]
  },
  {
   "cell_type": "code",
   "execution_count": 10,
   "id": "88cfecd4",
   "metadata": {},
   "outputs": [],
   "source": [
    "with open(fr\".\\dependency_files\\model.pkl\",'rb') as f:\n",
    "    trained_model=pickle.load(f)\n",
    "    model_results=trained_model.predict_proba(X)"
   ]
  },
  {
   "cell_type": "code",
   "execution_count": 11,
   "id": "77617766",
   "metadata": {},
   "outputs": [
    {
     "data": {
      "text/plain": [
       "[array([[0.71896521, 0.28103479],\n",
       "        [0.85848365, 0.14151635],\n",
       "        [0.66443738, 0.33556262],\n",
       "        ...,\n",
       "        [0.71738272, 0.28261728],\n",
       "        [0.83646114, 0.16353886],\n",
       "        [0.42247649, 0.57752351]]),\n",
       " array([[0.68295373, 0.31704627],\n",
       "        [0.82840985, 0.17159015],\n",
       "        [0.32221468, 0.67778532],\n",
       "        ...,\n",
       "        [0.62043406, 0.37956594],\n",
       "        [0.52037405, 0.47962595],\n",
       "        [0.34160789, 0.65839211]])]"
      ]
     },
     "execution_count": 11,
     "metadata": {},
     "output_type": "execute_result"
    }
   ],
   "source": [
    "model_results"
   ]
  },
  {
   "cell_type": "code",
   "execution_count": 12,
   "id": "567fd730",
   "metadata": {},
   "outputs": [
    {
     "data": {
      "text/plain": [
       "Index(['respondent_id', 'h1n1_concern', 'h1n1_knowledge',\n",
       "       'behavioral_antiviral_meds', 'behavioral_avoidance',\n",
       "       'behavioral_face_mask', 'behavioral_wash_hands',\n",
       "       'behavioral_large_gatherings', 'behavioral_outside_home',\n",
       "       'behavioral_touch_face', 'doctor_recc_h1n1', 'doctor_recc_seasonal',\n",
       "       'chronic_med_condition', 'child_under_6_months', 'health_worker',\n",
       "       'health_insurance', 'opinion_h1n1_vacc_effective', 'opinion_h1n1_risk',\n",
       "       'opinion_h1n1_sick_from_vacc', 'opinion_seas_vacc_effective',\n",
       "       'opinion_seas_risk', 'opinion_seas_sick_from_vacc', 'age_group',\n",
       "       'education', 'race', 'sex', 'income_poverty', 'marital_status',\n",
       "       'rent_or_own', 'employment_status', 'hhs_geo_region', 'census_msa',\n",
       "       'household_adults', 'household_children', 'employment_industry',\n",
       "       'employment_occupation', 'h1n1_vaccine', 'seasonal_vaccine'],\n",
       "      dtype='object')"
      ]
     },
     "execution_count": 12,
     "metadata": {},
     "output_type": "execute_result"
    }
   ],
   "source": [
    "final_df.columns"
   ]
  },
  {
   "cell_type": "code",
   "execution_count": 13,
   "id": "e9603054",
   "metadata": {},
   "outputs": [],
   "source": [
    "new_df=final_df['respondent_id']"
   ]
  },
  {
   "cell_type": "code",
   "execution_count": 20,
   "id": "f2425b28",
   "metadata": {},
   "outputs": [
    {
     "name": "stdout",
     "output_type": "stream",
     "text": [
      "   h1n1_vaccine  seasonal_vaccine\n",
      "0      0.281035          0.317046\n",
      "1      0.141516          0.171590\n",
      "2      0.335563          0.677785\n",
      "3      0.744064          0.874364\n",
      "4      0.332100          0.481483\n"
     ]
    }
   ],
   "source": [
    "probs = np.column_stack([arr[:, 1] for arr in model_results])\n",
    "\n",
    "# Create DataFrame with column names for each label\n",
    "df = pd.DataFrame(probs, columns=[\"h1n1_vaccine\", \"seasonal_vaccine\"])\n",
    "\n",
    "print(df.head())"
   ]
  },
  {
   "cell_type": "code",
   "execution_count": 22,
   "id": "1c1392b0",
   "metadata": {},
   "outputs": [],
   "source": [
    "pd.concat([new_df,df],axis=1).to_excel(\"final_results.xlsx\")"
   ]
  },
  {
   "cell_type": "code",
   "execution_count": null,
   "id": "bb0a7b5b",
   "metadata": {},
   "outputs": [],
   "source": []
  }
 ],
 "metadata": {
  "kernelspec": {
   "display_name": "venv",
   "language": "python",
   "name": "python3"
  },
  "language_info": {
   "codemirror_mode": {
    "name": "ipython",
    "version": 3
   },
   "file_extension": ".py",
   "mimetype": "text/x-python",
   "name": "python",
   "nbconvert_exporter": "python",
   "pygments_lexer": "ipython3",
   "version": "3.9.6"
  }
 },
 "nbformat": 4,
 "nbformat_minor": 5
}
